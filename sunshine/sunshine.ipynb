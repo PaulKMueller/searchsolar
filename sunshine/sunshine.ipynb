{
 "cells": [
  {
   "cell_type": "markdown",
   "metadata": {},
   "source": [
    "### Anual Sunshine Hours"
   ]
  },
  {
   "cell_type": "code",
   "execution_count": 4,
   "metadata": {},
   "outputs": [],
   "source": [
    "from geopy.geocoders import Nominatim\n",
    "from geopy.distance import geodesic\n",
    "import pandas as pd\n",
    "\n",
    "# Example DataFrame of annual sunshine hours\n",
    "csv_file_path = 'places_and_hours.csv'\n",
    "\n",
    "# Read the CSV file into a DataFrame\n",
    "df_sunshine = pd.read_csv(csv_file_path)\n",
    "\n",
    "# Comprehensive list of major German cities with their coordinates\n",
    "# Comprehensive list of major German cities with their coordinates\n",
    "major_cities = [\n",
    "    {'name': 'Berlin', 'latitude': 52.5200, 'longitude': 13.4050},\n",
    "    {'name': 'Hamburg', 'latitude': 53.5511, 'longitude': 9.9937},\n",
    "    {'name': 'Munich', 'latitude': 48.1351, 'longitude': 11.5820},\n",
    "    {'name': 'Cologne', 'latitude': 50.9375, 'longitude': 6.9603},\n",
    "    {'name': 'Frankfurt am Main', 'latitude': 50.1109, 'longitude': 8.6821},\n",
    "    {'name': 'Stuttgart', 'latitude': 48.7758, 'longitude': 9.1829},\n",
    "    {'name': 'Düsseldorf', 'latitude': 51.2277, 'longitude': 6.7735},\n",
    "    {'name': 'Dortmund', 'latitude': 51.5136, 'longitude': 7.4653},\n",
    "    {'name': 'Essen', 'latitude': 51.4556, 'longitude': 7.0116},\n",
    "    {'name': 'Leipzig', 'latitude': 51.3397, 'longitude': 12.3731},\n",
    "    {'name': 'Bremen', 'latitude': 53.0793, 'longitude': 8.8017},\n",
    "    {'name': 'Dresden', 'latitude': 51.0504, 'longitude': 13.7373},\n",
    "    {'name': 'Hanover', 'latitude': 52.3759, 'longitude': 9.7320},\n",
    "    {'name': 'Nuremberg', 'latitude': 49.4521, 'longitude': 11.0767},\n",
    "    {'name': 'Duisburg', 'latitude': 51.4344, 'longitude': 6.7623},\n",
    "    {'name': 'Bochum', 'latitude': 51.4818, 'longitude': 7.2162},\n",
    "    {'name': 'Wuppertal', 'latitude': 51.2562, 'longitude': 7.1508},\n",
    "    {'name': 'Bielefeld', 'latitude': 52.0302, 'longitude': 8.5325},\n",
    "    {'name': 'Bonn', 'latitude': 50.7374, 'longitude': 7.0982},\n",
    "    {'name': 'Münster', 'latitude': 51.9607, 'longitude': 7.6261},\n",
    "    {'name': 'Karlsruhe', 'latitude': 49.0069, 'longitude': 8.4037},\n",
    "    {'name': 'Mannheim', 'latitude': 49.4875, 'longitude': 8.4660},\n",
    "    {'name': 'Augsburg', 'latitude': 48.3705, 'longitude': 10.8978},\n",
    "    {'name': 'Wiesbaden', 'latitude': 50.0826, 'longitude': 8.2417},\n",
    "    {'name': 'Gelsenkirchen', 'latitude': 51.5177, 'longitude': 7.0857},\n",
    "    {'name': 'Mönchengladbach', 'latitude': 51.1805, 'longitude': 6.4428},\n",
    "    {'name': 'Braunschweig', 'latitude': 52.2689, 'longitude': 10.5268},\n",
    "    {'name': 'Chemnitz', 'latitude': 50.8278, 'longitude': 12.9214},\n",
    "    {'name': 'Kiel', 'latitude': 54.3233, 'longitude': 10.1228},\n",
    "    {'name': 'Aachen', 'latitude': 50.7753, 'longitude': 6.0839},\n",
    "    {'name': 'Halle (Saale)', 'latitude': 51.4828, 'longitude': 11.9690},\n",
    "    {'name': 'Magdeburg', 'latitude': 52.1205, 'longitude': 11.6276},\n",
    "    {'name': 'Freiburg im Breisgau', 'latitude': 47.9990, 'longitude': 7.8421},\n",
    "    {'name': 'Krefeld', 'latitude': 51.3388, 'longitude': 6.5853},\n",
    "    {'name': 'Lübeck', 'latitude': 53.8655, 'longitude': 10.6866},\n",
    "    {'name': 'Oberhausen', 'latitude': 51.4963, 'longitude': 6.8638},\n",
    "    {'name': 'Erfurt', 'latitude': 50.9848, 'longitude': 11.0299},\n",
    "    {'name': 'Mainz', 'latitude': 49.9929, 'longitude': 8.2473},\n",
    "    {'name': 'Rostock', 'latitude': 54.0924, 'longitude': 12.0991},\n",
    "    {'name': 'Kassel', 'latitude': 51.3127, 'longitude': 9.4797},\n",
    "    {'name': 'Hagen', 'latitude': 51.3671, 'longitude': 7.4633},\n",
    "    {'name': 'Hamm', 'latitude': 51.6739, 'longitude': 7.8150},\n",
    "    {'name': 'Saarbrücken', 'latitude': 49.2400, 'longitude': 6.9969},\n",
    "    {'name': 'Mülheim an der Ruhr', 'latitude': 51.4325, 'longitude': 6.8797},\n",
    "    {'name': 'Potsdam', 'latitude': 52.3906, 'longitude': 13.0645},\n",
    "    {'name': 'Ludwigshafen', 'latitude': 49.4774, 'longitude': 8.4452},\n",
    "    {'name': 'Oldenburg', 'latitude': 53.1435, 'longitude': 8.2146},\n",
    "    {'name': 'Leverkusen', 'latitude': 51.0459, 'longitude': 7.0192},\n",
    "    {'name': 'Osnabrück', 'latitude': 52.2799, 'longitude': 8.0472},\n",
    "    {'name': 'Solingen', 'latitude': 51.1652, 'longitude': 7.0671},\n",
    "    {'name': 'Heidelberg', 'latitude': 49.3988, 'longitude': 8.6724},\n",
    "    {'name': 'Herne', 'latitude': 51.5369, 'longitude': 7.2009},\n",
    "    {'name': 'Neuss', 'latitude': 51.2042, 'longitude': 6.6879},\n",
    "]\n",
    "\n",
    "# Method to retrieve annual sunshine hours based on an address\n",
    "def get_annual_sunshine_hours(address):\n",
    "    def get_coordinates(address):\n",
    "        geolocator = Nominatim(user_agent=\"city_finder\")\n",
    "        location = geolocator.geocode(address)\n",
    "        if location:\n",
    "            return (location.latitude, location.longitude)\n",
    "        else:\n",
    "            raise ValueError(\"Address not found.\")\n",
    "    \n",
    "    def find_nearest_city(address_coords, cities):\n",
    "        min_distance = float('inf')\n",
    "        nearest_city = None\n",
    "        for city in cities:\n",
    "            city_coords = (city['latitude'], city['longitude'])\n",
    "            distance = geodesic(address_coords, city_coords).kilometers\n",
    "            if distance < min_distance:\n",
    "                min_distance = distance\n",
    "                nearest_city = city['name']\n",
    "        return nearest_city\n",
    "    \n",
    "    try:\n",
    "        address_coords = get_coordinates(address)\n",
    "        nearest_city = find_nearest_city(address_coords, major_cities)\n",
    "        \n",
    "        # Get the annual sunshine hours for the nearest city\n",
    "        sunshine_hours = df_sunshine[df_sunshine['Place'] == nearest_city]['Hours'].values[0]\n",
    "        return sunshine_hours\n",
    "    except ValueError as e:\n",
    "        print(e)\n",
    "        return None"
   ]
  },
  {
   "cell_type": "code",
   "execution_count": 5,
   "metadata": {},
   "outputs": [
    {
     "name": "stdout",
     "output_type": "stream",
     "text": [
      "Annual Sunshine Hours: 1504\n"
     ]
    }
   ],
   "source": [
    "address = \"Parkstraße 22, 50169 Kerpen\"\n",
    "annual_sunshine_hours = get_annual_sunshine_hours(address)\n",
    "print(\"Annual Sunshine Hours:\", annual_sunshine_hours)"
   ]
  },
  {
   "cell_type": "markdown",
   "metadata": {},
   "source": [
    "### Break Even"
   ]
  },
  {
   "cell_type": "code",
   "execution_count": 6,
   "metadata": {},
   "outputs": [],
   "source": [
    "average_installation_cost = 10000 # example value\n",
    "yearly_savings = 2000 # example value"
   ]
  },
  {
   "cell_type": "code",
   "execution_count": 8,
   "metadata": {},
   "outputs": [
    {
     "data": {
      "text/plain": [
       "5.0"
      ]
     },
     "execution_count": 8,
     "metadata": {},
     "output_type": "execute_result"
    }
   ],
   "source": [
    "break_even = average_installation_cost / yearly_savings\n",
    "break_even"
   ]
  },
  {
   "cell_type": "markdown",
   "metadata": {},
   "source": [
    "### Yearly Savings"
   ]
  },
  {
   "cell_type": "code",
   "execution_count": 9,
   "metadata": {},
   "outputs": [],
   "source": [
    "Roof_Area = 50 # example\n",
    "Sunlight_Hours = 1200 # example\n",
    "System_Efficiency = 0.15\n",
    "Electricity_Price = 0.30"
   ]
  },
  {
   "cell_type": "code",
   "execution_count": 11,
   "metadata": {},
   "outputs": [
    {
     "data": {
      "text/plain": [
       "2700.0"
      ]
     },
     "execution_count": 11,
     "metadata": {},
     "output_type": "execute_result"
    }
   ],
   "source": [
    "Annual_Savings = Roof_Area * System_Efficiency * Sunlight_Hours * Electricity_Price\n",
    "Annual_Savings"
   ]
  },
  {
   "cell_type": "markdown",
   "metadata": {},
   "source": [
    "### ROI"
   ]
  },
  {
   "cell_type": "code",
   "execution_count": 13,
   "metadata": {},
   "outputs": [],
   "source": [
    "average_installation_cost = 10000\n",
    "lifetime_panel = 23\n",
    "#Annual_Savings"
   ]
  },
  {
   "cell_type": "code",
   "execution_count": 14,
   "metadata": {},
   "outputs": [
    {
     "data": {
      "text/plain": [
       "521.0"
      ]
     },
     "execution_count": 14,
     "metadata": {},
     "output_type": "execute_result"
    }
   ],
   "source": [
    "ROI = (((Annual_Savings * lifetime_panel) - average_installation_cost) / average_installation_cost ) * 100\n",
    "ROI"
   ]
  }
 ],
 "metadata": {
  "kernelspec": {
   "display_name": "Python 3",
   "language": "python",
   "name": "python3"
  },
  "language_info": {
   "codemirror_mode": {
    "name": "ipython",
    "version": 3
   },
   "file_extension": ".py",
   "mimetype": "text/x-python",
   "name": "python",
   "nbconvert_exporter": "python",
   "pygments_lexer": "ipython3",
   "version": "3.9.13"
  }
 },
 "nbformat": 4,
 "nbformat_minor": 2
}
